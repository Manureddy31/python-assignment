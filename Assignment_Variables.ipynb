{
  "cells": [
    {
      "cell_type": "code",
      "execution_count": null,
      "metadata": {
        "id": "ekBh4ls6bkRz"
      },
      "outputs": [],
      "source": [
        "# Question 1 :  Write a Python program that asks the user to enter a\n",
        "# temperature and specify whether it's in Celsius or Fahrenheit, converts the temperature to the opposite unit\n",
        "\n",
        "def convert_temperature():\n",
        "    temp = float(input(\"Enter the temperature: \"))\n",
        "    unit = input(\"Is this in Celsius or Fahrenheit? (C/F): \").strip().upper()\n",
        "\n",
        "    if unit == 'C':\n",
        "        converted_temp = (temp * 9/5) + 32\n",
        "        print(f\"{temp}°C is {converted_temp:.2f}°F\")\n",
        "    elif unit == 'F':\n",
        "        converted_temp = (temp - 32) * 5/9\n",
        "        print(f\"{temp}°F is {converted_temp:.2f}°C\")\n",
        "    else:\n",
        "        print(\"Invalid unit. Please enter 'C' for Celsius or 'F' for Fahrenheit.\")\n",
        "\n",
        "convert_temperature()\n"
      ]
    },
    {
      "cell_type": "code",
      "execution_count": null,
      "metadata": {
        "id": "Io28kj1pcUOZ"
      },
      "outputs": [],
      "source": [
        "# Question 2 : Write a Python program to calculate the simple interest for a given principal amount,\n",
        "# rate of interest, and time by prompting the user for inputs, and outputting both the simple interest and the total amount.\n",
        "\n",
        "def calculate_simple_interest():\n",
        "    \n",
        "    principal = float(input(\"Enter the principal amount: \"))\n",
        "    rate = float(input(\"Enter the annual rate of interest (in %): \"))\n",
        "    time = float(input(\"Enter the time (in years): \"))\n",
        "\n",
        "   \n",
        "    simple_interest = (principal * rate * time) / 100\n",
        "\n",
        "    \n",
        "    total_amount = principal + simple_interest\n",
        "\n",
        "   \n",
        "    print(f\"Simple Interest: {simple_interest:.2f}\")\n",
        "    print(f\"Total Amount: {total_amount:.2f}\")\n",
        "\n",
        "\n",
        "calculate_simple_interest()\n",
        "\n"
      ]
    },
    {
      "cell_type": "code",
      "execution_count": null,
      "metadata": {
        "id": "wz03EG9Kc6aq"
      },
      "outputs": [],
      "source": [
        "# Question 3 : Write a Python program that asks the user to enter an amount in their home currency (e.g., USD),\n",
        "# asks for the target currency (e.g., EUR), uses predefined conversion rates to calculate the equivalent amount,\n",
        "# and outputs the converted amount in the target currency.\n",
        "def currency_converter():\n",
        "    \n",
        "    conversion_rates = {\n",
        "        \"USD_TO_EUR\": 0.85,\n",
        "        \"USD_TO_INR\": 83.0,\n",
        "        \"EUR_TO_USD\": 1.18,\n",
        "        \"EUR_TO_INR\": 98.0,\n",
        "        \"INR_TO_USD\": 0.012,\n",
        "        \"INR_TO_EUR\": 0.0102,\n",
        "    }\n",
        "\n",
        "   \n",
        "    amount = float(input(\"Enter the amount in your home currency: \"))\n",
        "    home_currency = input(\"Enter your home currency (USD, EUR, INR): \").strip().upper()\n",
        "    target_currency = input(\"Enter the target currency (USD, EUR, INR): \").strip().upper()\n",
        "\n",
        "   \n",
        "    conversion_key = f\"{home_currency}_TO_{target_currency}\"\n",
        "\n",
        "    \n",
        "    if conversion_key in conversion_rates:\n",
        "        converted_amount = amount * conversion_rates[conversion_key]\n",
        "        print(f\"{amount:.2f} {home_currency} is equivalent to {converted_amount:.2f} {target_currency}.\")\n",
        "    else:\n",
        "        print(\"Conversion rate for the specified currencies is not available.\")\n",
        "\n",
        "\n",
        "currency_converter()\n",
        "\n"
      ]
    },
    {
      "cell_type": "code",
      "execution_count": null,
      "metadata": {
        "id": "Dz1k-1rcdkRT"
      },
      "outputs": [],
      "source": [
        "# Question 4 : Write a Python program that asks for the user's weight (kg) and height (m),\n",
        "# calculates the BMI , and outputs the BMI with a category (underweight, normal weight, overweight, or obese)\n",
        "#  based on standard thresholds.\n",
        "def calculate_bmi():\n",
        "    \n",
        "    weight = float(input(\"Enter your weight in kilograms (kg): \"))\n",
        "    height = float(input(\"Enter your height in centimeters (cm): \"))\n",
        "\n",
        "   \n",
        "    bmi = weight / (height ** 2)\n",
        "\n",
        "    \n",
        "    if bmi < 18.5:\n",
        "        category = \"Underweight\"\n",
        "    elif 18.5 <= bmi < 24.9:\n",
        "        category = \"Normal weight\"\n",
        "    elif 25 <= bmi < 29.9:\n",
        "        category = \"Overweight\"\n",
        "    else:\n",
        "        category = \"Obese\"\n",
        "\n",
        "    \n",
        "    print(f\"Your BMI is {bmi:.2f}, which falls under the category: {category}\")\n",
        "\n",
        "\n",
        "calculate_bmi()\n",
        "\n",
        "\n"
      ]
    },
    {
      "cell_type": "code",
      "execution_count": null,
      "metadata": {
        "id": "4ct-l3Evfkcj"
      },
      "outputs": [],
      "source": [
        "# Question 5 : Write a Python program to convert a user-input distance between miles and kilometers\n",
        "# and output the converted distance using the conversion factors 1 mile = 1.60934 kilometers and 1 kilometer = 0.621371 miles.\n",
        "def convert_distance():\n",
        "    \n",
        "    distance = float(input(\"Enter the distance: \"))\n",
        "    unit = input(\"Is this in miles (M) or kilometers (K)? \").strip().upper()\n",
        "\n",
        "    \n",
        "    miles_to_km = 1.60934\n",
        "    km_to_miles = 0.621371\n",
        "\n",
        "    \n",
        "    if unit == 'M':\n",
        "        converted_distance = distance * miles_to_km\n",
        "        print(f\"{distance:.2f} miles is equal to {converted_distance:.2f} kilometers.\")\n",
        "    elif unit == 'K':\n",
        "        converted_distance = distance * km_to_miles\n",
        "        print(f\"{distance:.2f} kilometers is equal to {converted_distance:.2f} miles.\")\n",
        "    else:\n",
        "        print(\"Invalid input. Please specify 'M' for miles or 'K' for kilometers.\")\n",
        "\n",
        "\n",
        "convert_distance()\n",
        "\n",
        "\n"
      ]
    }
  ],
  "metadata": {
    "colab": {
      "provenance": []
    },
    "kernelspec": {
      "display_name": "Python 3",
      "name": "python3"
    },
    "language_info": {
      "codemirror_mode": {
        "name": "ipython",
        "version": 3
      },
      "file_extension": ".py",
      "mimetype": "text/x-python",
      "name": "python",
      "nbconvert_exporter": "python",
      "pygments_lexer": "ipython3",
      "version": "3.12.3"
    }
  },
  "nbformat": 4,
  "nbformat_minor": 0
}
